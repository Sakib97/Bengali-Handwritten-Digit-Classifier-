{
  "nbformat": 4,
  "nbformat_minor": 0,
  "metadata": {
    "colab": {
      "name": "numtaDB_classifier_pretrained_model.ipynb",
      "provenance": [],
      "toc_visible": true,
      "mount_file_id": "1vdebw652HjYBJ3ZBBxWsED4NnUvgBID1",
      "authorship_tag": "ABX9TyML1M07zb3hkkjS1OY+IjLv",
      "include_colab_link": true
    },
    "kernelspec": {
      "name": "python3",
      "display_name": "Python 3"
    },
    "accelerator": "GPU"
  },
  "cells": [
    {
      "cell_type": "markdown",
      "metadata": {
        "id": "view-in-github",
        "colab_type": "text"
      },
      "source": [
        "<a href=\"https://colab.research.google.com/github/Sakib97/Bengali_Handwritten_Digit_Classifier/blob/main/numtaDB_classifier_pretrained_model.ipynb\" target=\"_parent\"><img src=\"https://colab.research.google.com/assets/colab-badge.svg\" alt=\"Open In Colab\"/></a>"
      ]
    },
    {
      "cell_type": "code",
      "metadata": {
        "id": "U_X58sEh3E7p"
      },
      "source": [
        "from __future__ import print_function, division\n",
        "\n",
        "import torch\n",
        "import torch.nn as nn\n",
        "import torch.optim as optim\n",
        "from torch.optim import lr_scheduler\n",
        "import numpy as np\n",
        "import torchvision\n",
        "from torchvision import datasets, models, transforms\n",
        "import matplotlib.pyplot as plt\n",
        "import time\n",
        "import os\n",
        "import copy\n",
        "import numpy as np \n",
        "import pandas as pd\n",
        "from torch.autograd import Variable"
      ],
      "execution_count": null,
      "outputs": []
    },
    {
      "cell_type": "code",
      "metadata": {
        "id": "aB_lSxkw3gH5",
        "colab": {
          "base_uri": "https://localhost:8080/",
          "height": 34
        },
        "outputId": "5664ea6d-6aa4-4e26-d845-7195b4ad2f19"
      },
      "source": [
        "import os\n",
        "print(os.listdir(\"/content/\"))"
      ],
      "execution_count": null,
      "outputs": [
        {
          "output_type": "stream",
          "text": [
            "['.config', 'drive', 'sample_data']\n"
          ],
          "name": "stdout"
        }
      ]
    },
    {
      "cell_type": "code",
      "metadata": {
        "id": "9lMqdsX73qDA",
        "colab": {
          "base_uri": "https://localhost:8080/",
          "height": 34
        },
        "outputId": "6d30e2f6-52e6-4018-c453-8410f04e1ef7"
      },
      "source": [
        "#GPU count and name\n",
        "!nvidia-smi -L"
      ],
      "execution_count": null,
      "outputs": [
        {
          "output_type": "stream",
          "text": [
            "GPU 0: Tesla P100-PCIE-16GB (UUID: GPU-63e21aca-2dfa-cee1-3d58-b64097862a2b)\n"
          ],
          "name": "stdout"
        }
      ]
    },
    {
      "cell_type": "code",
      "metadata": {
        "id": "qpcfiKU43s74",
        "colab": {
          "base_uri": "https://localhost:8080/",
          "height": 34
        },
        "outputId": "6c591d9f-0403-466e-ff62-a6fdff2ac5ff"
      },
      "source": [
        "import time\n",
        "e_since = time.time()\n",
        "\n",
        "!unzip -qq '/content/drive/My Drive/dataset_numtadb/numtaDB.zip'\n",
        "\n",
        "time_elapsed = time.time() - e_since\n",
        "print('completed in {:.4f}m {:.9f}s'.format( time_elapsed // 60, time_elapsed % 60))"
      ],
      "execution_count": null,
      "outputs": [
        {
          "output_type": "stream",
          "text": [
            "completed in 1.0000m 25.108472824s\n"
          ],
          "name": "stdout"
        }
      ]
    },
    {
      "cell_type": "code",
      "metadata": {
        "id": "AUXTWQlEurAp",
        "colab": {
          "base_uri": "https://localhost:8080/",
          "height": 51
        },
        "outputId": "85c7d095-364b-4f89-b0fe-0fb65ce0ac1a"
      },
      "source": [
        "data_dir = '/content/training-c'\n",
        "print(os.listdir(data_dir)[:5])\n",
        "len(os.listdir(data_dir))\n",
        "#10908+19702+24298"
      ],
      "execution_count": null,
      "outputs": [
        {
          "output_type": "stream",
          "text": [
            "['c09661.png', 'c00695.png', 'c19215.png', 'c23853.png', 'c09733.png']\n"
          ],
          "name": "stdout"
        },
        {
          "output_type": "execute_result",
          "data": {
            "text/plain": [
              "24298"
            ]
          },
          "metadata": {
            "tags": []
          },
          "execution_count": 5
        }
      ]
    },
    {
      "cell_type": "code",
      "metadata": {
        "id": "LREX0KDs35uJ",
        "colab": {
          "base_uri": "https://localhost:8080/",
          "height": 68
        },
        "outputId": "8be8853d-f8e6-4398-c28d-00cf4f55fa1a"
      },
      "source": [
        "# Let's combine A D\n",
        "# csv first\n",
        "\n",
        "a_csv = pd.read_csv('/content/training-a.csv')\n",
        "a_csv.columns"
      ],
      "execution_count": null,
      "outputs": [
        {
          "output_type": "execute_result",
          "data": {
            "text/plain": [
              "Index(['filename', 'original filename', 'scanid', 'digit',\n",
              "       'database name original', 'contributing team', 'database name'],\n",
              "      dtype='object')"
            ]
          },
          "metadata": {
            "tags": []
          },
          "execution_count": 6
        }
      ]
    },
    {
      "cell_type": "code",
      "metadata": {
        "id": "FGIgq6cd4gAY",
        "colab": {
          "base_uri": "https://localhost:8080/",
          "height": 359
        },
        "outputId": "70319917-df55-4806-83ef-fa3b0190e53d"
      },
      "source": [
        "a_csv = a_csv.drop(columns=['original filename', 'scanid',\n",
        "       'database name original', 'contributing team', 'database name'])\n",
        "a_csv.iloc[:10, 0:]"
      ],
      "execution_count": null,
      "outputs": [
        {
          "output_type": "execute_result",
          "data": {
            "text/html": [
              "<div>\n",
              "<style scoped>\n",
              "    .dataframe tbody tr th:only-of-type {\n",
              "        vertical-align: middle;\n",
              "    }\n",
              "\n",
              "    .dataframe tbody tr th {\n",
              "        vertical-align: top;\n",
              "    }\n",
              "\n",
              "    .dataframe thead th {\n",
              "        text-align: right;\n",
              "    }\n",
              "</style>\n",
              "<table border=\"1\" class=\"dataframe\">\n",
              "  <thead>\n",
              "    <tr style=\"text-align: right;\">\n",
              "      <th></th>\n",
              "      <th>filename</th>\n",
              "      <th>digit</th>\n",
              "    </tr>\n",
              "  </thead>\n",
              "  <tbody>\n",
              "    <tr>\n",
              "      <th>0</th>\n",
              "      <td>a00000.png</td>\n",
              "      <td>5</td>\n",
              "    </tr>\n",
              "    <tr>\n",
              "      <th>1</th>\n",
              "      <td>a00001.png</td>\n",
              "      <td>3</td>\n",
              "    </tr>\n",
              "    <tr>\n",
              "      <th>2</th>\n",
              "      <td>a00002.png</td>\n",
              "      <td>1</td>\n",
              "    </tr>\n",
              "    <tr>\n",
              "      <th>3</th>\n",
              "      <td>a00003.png</td>\n",
              "      <td>7</td>\n",
              "    </tr>\n",
              "    <tr>\n",
              "      <th>4</th>\n",
              "      <td>a00004.png</td>\n",
              "      <td>0</td>\n",
              "    </tr>\n",
              "    <tr>\n",
              "      <th>5</th>\n",
              "      <td>a00005.png</td>\n",
              "      <td>4</td>\n",
              "    </tr>\n",
              "    <tr>\n",
              "      <th>6</th>\n",
              "      <td>a00006.png</td>\n",
              "      <td>3</td>\n",
              "    </tr>\n",
              "    <tr>\n",
              "      <th>7</th>\n",
              "      <td>a00007.png</td>\n",
              "      <td>0</td>\n",
              "    </tr>\n",
              "    <tr>\n",
              "      <th>8</th>\n",
              "      <td>a00008.png</td>\n",
              "      <td>4</td>\n",
              "    </tr>\n",
              "    <tr>\n",
              "      <th>9</th>\n",
              "      <td>a00009.png</td>\n",
              "      <td>9</td>\n",
              "    </tr>\n",
              "  </tbody>\n",
              "</table>\n",
              "</div>"
            ],
            "text/plain": [
              "     filename  digit\n",
              "0  a00000.png      5\n",
              "1  a00001.png      3\n",
              "2  a00002.png      1\n",
              "3  a00003.png      7\n",
              "4  a00004.png      0\n",
              "5  a00005.png      4\n",
              "6  a00006.png      3\n",
              "7  a00007.png      0\n",
              "8  a00008.png      4\n",
              "9  a00009.png      9"
            ]
          },
          "metadata": {
            "tags": []
          },
          "execution_count": 7
        }
      ]
    },
    {
      "cell_type": "code",
      "metadata": {
        "id": "080atOif4i1i",
        "colab": {
          "base_uri": "https://localhost:8080/",
          "height": 410
        },
        "outputId": "b78a16d7-5a5a-4020-f77e-a2ee1f58c937"
      },
      "source": [
        "c_csv = pd.read_csv('/content/training-c.csv')\n",
        "print(c_csv.columns)\n",
        "\n",
        "c_csv = c_csv.drop(columns=['original filename', 'scanid',\n",
        "       'database name original', 'contributing team', 'database name'])\n",
        "c_csv.iloc[:10, 0:]"
      ],
      "execution_count": null,
      "outputs": [
        {
          "output_type": "stream",
          "text": [
            "Index(['filename', 'original filename', 'scanid', 'digit',\n",
            "       'database name original', 'contributing team', 'database name'],\n",
            "      dtype='object')\n"
          ],
          "name": "stdout"
        },
        {
          "output_type": "execute_result",
          "data": {
            "text/html": [
              "<div>\n",
              "<style scoped>\n",
              "    .dataframe tbody tr th:only-of-type {\n",
              "        vertical-align: middle;\n",
              "    }\n",
              "\n",
              "    .dataframe tbody tr th {\n",
              "        vertical-align: top;\n",
              "    }\n",
              "\n",
              "    .dataframe thead th {\n",
              "        text-align: right;\n",
              "    }\n",
              "</style>\n",
              "<table border=\"1\" class=\"dataframe\">\n",
              "  <thead>\n",
              "    <tr style=\"text-align: right;\">\n",
              "      <th></th>\n",
              "      <th>filename</th>\n",
              "      <th>digit</th>\n",
              "    </tr>\n",
              "  </thead>\n",
              "  <tbody>\n",
              "    <tr>\n",
              "      <th>0</th>\n",
              "      <td>c00000.png</td>\n",
              "      <td>6</td>\n",
              "    </tr>\n",
              "    <tr>\n",
              "      <th>1</th>\n",
              "      <td>c00001.png</td>\n",
              "      <td>1</td>\n",
              "    </tr>\n",
              "    <tr>\n",
              "      <th>2</th>\n",
              "      <td>c00002.png</td>\n",
              "      <td>3</td>\n",
              "    </tr>\n",
              "    <tr>\n",
              "      <th>3</th>\n",
              "      <td>c00003.png</td>\n",
              "      <td>2</td>\n",
              "    </tr>\n",
              "    <tr>\n",
              "      <th>4</th>\n",
              "      <td>c00004.png</td>\n",
              "      <td>7</td>\n",
              "    </tr>\n",
              "    <tr>\n",
              "      <th>5</th>\n",
              "      <td>c00005.png</td>\n",
              "      <td>3</td>\n",
              "    </tr>\n",
              "    <tr>\n",
              "      <th>6</th>\n",
              "      <td>c00006.png</td>\n",
              "      <td>4</td>\n",
              "    </tr>\n",
              "    <tr>\n",
              "      <th>7</th>\n",
              "      <td>c00007.png</td>\n",
              "      <td>7</td>\n",
              "    </tr>\n",
              "    <tr>\n",
              "      <th>8</th>\n",
              "      <td>c00008.png</td>\n",
              "      <td>5</td>\n",
              "    </tr>\n",
              "    <tr>\n",
              "      <th>9</th>\n",
              "      <td>c00009.png</td>\n",
              "      <td>3</td>\n",
              "    </tr>\n",
              "  </tbody>\n",
              "</table>\n",
              "</div>"
            ],
            "text/plain": [
              "     filename  digit\n",
              "0  c00000.png      6\n",
              "1  c00001.png      1\n",
              "2  c00002.png      3\n",
              "3  c00003.png      2\n",
              "4  c00004.png      7\n",
              "5  c00005.png      3\n",
              "6  c00006.png      4\n",
              "7  c00007.png      7\n",
              "8  c00008.png      5\n",
              "9  c00009.png      3"
            ]
          },
          "metadata": {
            "tags": []
          },
          "execution_count": 8
        }
      ]
    },
    {
      "cell_type": "code",
      "metadata": {
        "id": "GjoFJLoj4m0F",
        "colab": {
          "base_uri": "https://localhost:8080/",
          "height": 410
        },
        "outputId": "856a9b95-536b-44bd-9edd-c4a915e9caa8"
      },
      "source": [
        "d_csv = pd.read_csv('/content/training-d.csv')\n",
        "print(d_csv.columns)\n",
        "\n",
        "d_csv = d_csv.drop(columns=['original filename', 'scanid', 'num', 'database name original',\n",
        "       'database name'])\n",
        "d_csv.iloc[:10, 0:]"
      ],
      "execution_count": null,
      "outputs": [
        {
          "output_type": "stream",
          "text": [
            "Index(['original filename', 'scanid', 'digit', 'num', 'database name original',\n",
            "       'database name', 'filename'],\n",
            "      dtype='object')\n"
          ],
          "name": "stdout"
        },
        {
          "output_type": "execute_result",
          "data": {
            "text/html": [
              "<div>\n",
              "<style scoped>\n",
              "    .dataframe tbody tr th:only-of-type {\n",
              "        vertical-align: middle;\n",
              "    }\n",
              "\n",
              "    .dataframe tbody tr th {\n",
              "        vertical-align: top;\n",
              "    }\n",
              "\n",
              "    .dataframe thead th {\n",
              "        text-align: right;\n",
              "    }\n",
              "</style>\n",
              "<table border=\"1\" class=\"dataframe\">\n",
              "  <thead>\n",
              "    <tr style=\"text-align: right;\">\n",
              "      <th></th>\n",
              "      <th>digit</th>\n",
              "      <th>filename</th>\n",
              "    </tr>\n",
              "  </thead>\n",
              "  <tbody>\n",
              "    <tr>\n",
              "      <th>0</th>\n",
              "      <td>1</td>\n",
              "      <td>d00000.png</td>\n",
              "    </tr>\n",
              "    <tr>\n",
              "      <th>1</th>\n",
              "      <td>1</td>\n",
              "      <td>d00001.png</td>\n",
              "    </tr>\n",
              "    <tr>\n",
              "      <th>2</th>\n",
              "      <td>5</td>\n",
              "      <td>d00002.png</td>\n",
              "    </tr>\n",
              "    <tr>\n",
              "      <th>3</th>\n",
              "      <td>7</td>\n",
              "      <td>d00003.png</td>\n",
              "    </tr>\n",
              "    <tr>\n",
              "      <th>4</th>\n",
              "      <td>0</td>\n",
              "      <td>d00004.png</td>\n",
              "    </tr>\n",
              "    <tr>\n",
              "      <th>5</th>\n",
              "      <td>1</td>\n",
              "      <td>d00005.png</td>\n",
              "    </tr>\n",
              "    <tr>\n",
              "      <th>6</th>\n",
              "      <td>0</td>\n",
              "      <td>d00006.png</td>\n",
              "    </tr>\n",
              "    <tr>\n",
              "      <th>7</th>\n",
              "      <td>0</td>\n",
              "      <td>d00007.png</td>\n",
              "    </tr>\n",
              "    <tr>\n",
              "      <th>8</th>\n",
              "      <td>3</td>\n",
              "      <td>d00008.png</td>\n",
              "    </tr>\n",
              "    <tr>\n",
              "      <th>9</th>\n",
              "      <td>7</td>\n",
              "      <td>d00009.png</td>\n",
              "    </tr>\n",
              "  </tbody>\n",
              "</table>\n",
              "</div>"
            ],
            "text/plain": [
              "   digit    filename\n",
              "0      1  d00000.png\n",
              "1      1  d00001.png\n",
              "2      5  d00002.png\n",
              "3      7  d00003.png\n",
              "4      0  d00004.png\n",
              "5      1  d00005.png\n",
              "6      0  d00006.png\n",
              "7      0  d00007.png\n",
              "8      3  d00008.png\n",
              "9      7  d00009.png"
            ]
          },
          "metadata": {
            "tags": []
          },
          "execution_count": 9
        }
      ]
    },
    {
      "cell_type": "code",
      "metadata": {
        "id": "KXHjQItS4pxK"
      },
      "source": [
        "#combine csv\n",
        "frames = [a_csv,c_csv, d_csv]\n",
        "label_csv = pd.concat(frames)"
      ],
      "execution_count": null,
      "outputs": []
    },
    {
      "cell_type": "code",
      "metadata": {
        "id": "Y3TeUpjM4tD4",
        "colab": {
          "base_uri": "https://localhost:8080/",
          "height": 34
        },
        "outputId": "ad749577-d155-4061-b9bf-3d406e165396"
      },
      "source": [
        "len(label_csv)"
      ],
      "execution_count": null,
      "outputs": [
        {
          "output_type": "execute_result",
          "data": {
            "text/plain": [
              "54908"
            ]
          },
          "metadata": {
            "tags": []
          },
          "execution_count": 12
        }
      ]
    },
    {
      "cell_type": "code",
      "metadata": {
        "id": "tO88IIVa4wtp"
      },
      "source": [
        "# Now combine Image\n",
        "path = '/content/train'\n",
        "os.mkdir(path)"
      ],
      "execution_count": null,
      "outputs": []
    },
    {
      "cell_type": "code",
      "metadata": {
        "id": "m45WFSRZ40WA",
        "colab": {
          "base_uri": "https://localhost:8080/",
          "height": 34
        },
        "outputId": "e14af429-2ed2-4fd1-c203-d6e10baa3320"
      },
      "source": [
        "import os\n",
        "import shutil\n",
        "src = '/content/training-a/'\n",
        "src_files = os.listdir(src)\n",
        "for file_name in src_files:\n",
        "    full_file_name = os.path.join(src, file_name)\n",
        "    if os.path.isfile(full_file_name):\n",
        "        shutil.copy(full_file_name, path)\n",
        "\n",
        "print(\"A Done\")"
      ],
      "execution_count": null,
      "outputs": [
        {
          "output_type": "stream",
          "text": [
            "A Done\n"
          ],
          "name": "stdout"
        }
      ]
    },
    {
      "cell_type": "code",
      "metadata": {
        "id": "0UeakCND43zn",
        "colab": {
          "base_uri": "https://localhost:8080/",
          "height": 34
        },
        "outputId": "eec55c22-e55f-4430-f558-be7171087063"
      },
      "source": [
        "src = '/content/training-c/'\n",
        "src_files = os.listdir(src)\n",
        "for file_name in src_files:\n",
        "    full_file_name = os.path.join(src, file_name)\n",
        "    if os.path.isfile(full_file_name):\n",
        "        shutil.copy(full_file_name, path)\n",
        "\n",
        "print(\"C Done\")"
      ],
      "execution_count": null,
      "outputs": [
        {
          "output_type": "stream",
          "text": [
            "C Done\n"
          ],
          "name": "stdout"
        }
      ]
    },
    {
      "cell_type": "code",
      "metadata": {
        "id": "8IKFhbiN46QC",
        "colab": {
          "base_uri": "https://localhost:8080/",
          "height": 34
        },
        "outputId": "f8e037f9-c91a-4880-9d7e-45765abf235a"
      },
      "source": [
        "src = '/content/training-d/'\n",
        "src_files = os.listdir(src)\n",
        "for file_name in src_files:\n",
        "    full_file_name = os.path.join(src, file_name)\n",
        "    if os.path.isfile(full_file_name):\n",
        "        shutil.copy(full_file_name, path)\n",
        "\n",
        "print(\"D Done\")"
      ],
      "execution_count": null,
      "outputs": [
        {
          "output_type": "stream",
          "text": [
            "D Done\n"
          ],
          "name": "stdout"
        }
      ]
    },
    {
      "cell_type": "code",
      "metadata": {
        "id": "25Xpep4149hG",
        "colab": {
          "base_uri": "https://localhost:8080/",
          "height": 34
        },
        "outputId": "1efc5d22-0dcb-490f-862f-b0b01502cd8c"
      },
      "source": [
        "# path = '/content/train'\n",
        "print(len(os.listdir(path)))\n"
      ],
      "execution_count": null,
      "outputs": [
        {
          "output_type": "stream",
          "text": [
            "54908\n"
          ],
          "name": "stdout"
        }
      ]
    },
    {
      "cell_type": "code",
      "metadata": {
        "id": "phMz1I3T5CQG",
        "colab": {
          "base_uri": "https://localhost:8080/",
          "height": 282
        },
        "outputId": "739da275-9c99-46f8-b0fa-2348a4e3674f"
      },
      "source": [
        "from PIL import Image\n",
        "t = label_csv.iloc[100]\n",
        "print('t: ',t)\n",
        "print(\"Label: \", t[0])\n",
        "# name = os.listdir(data_dir)[10]\n",
        "xx = Image.open(path+\"/\"+ str(t[0]))\n",
        "print(xx.mode)\n",
        "xx"
      ],
      "execution_count": null,
      "outputs": [
        {
          "output_type": "stream",
          "text": [
            "t:  filename    a00100.png\n",
            "digit                4\n",
            "Name: 100, dtype: object\n",
            "Label:  a00100.png\n",
            "RGB\n"
          ],
          "name": "stdout"
        },
        {
          "output_type": "execute_result",
          "data": {
            "image/png": "[encoded data removed]",
            "text/plain": [
              "<PIL.PngImagePlugin.PngImageFile image mode=RGB size=180x180 at 0x7F420F90B470>"
            ]
          },
          "metadata": {
            "tags": []
          },
          "execution_count": 18
        }
      ]
    },
    {
      "cell_type": "code",
      "metadata": {
        "id": "ZhrZIPT9jitg",
        "colab": {
          "base_uri": "https://localhost:8080/",
          "height": 68
        },
        "outputId": "9d7cd3b7-58fd-47a0-cb84-766f99131bcd"
      },
      "source": [
        "rgb = 0\n",
        "other = 0\n",
        "ot = []\n",
        "for i in range (len(label_csv)):\n",
        "  t = label_csv.iloc[i]\n",
        "  im = Image.open(path+\"/\"+ str(t[0])).convert('RGB')\n",
        "  if ((im.mode) == 'RGB'):\n",
        "    rgb = rgb+1\n",
        "  else:\n",
        "    other = other+1\n",
        "    ot.append(i)\n",
        "\n",
        "print(rgb, '\\n', other)\n",
        "print(ot)"
      ],
      "execution_count": null,
      "outputs": [
        {
          "output_type": "stream",
          "text": [
            "54908 \n",
            " 0\n",
            "[]\n"
          ],
          "name": "stdout"
        }
      ]
    },
    {
      "cell_type": "code",
      "metadata": {
        "id": "2yrfGQp35W1R",
        "colab": {
          "base_uri": "https://localhost:8080/",
          "height": 51
        },
        "outputId": "b4a7f4aa-d9e6-40e6-982f-54e274746dfe"
      },
      "source": [
        "# checking if rgb (JUNK)\n",
        "\n",
        "# from scipy.misc import imread, imsave, imresize\n",
        "from skimage import io, transform\n",
        "\n",
        "im = io.imread(path+\"/\"+ str(t[0]))\n",
        "# im = Image.open(path+\"/\"+ str(t[0]))\n",
        "\n",
        "print(len(im.shape))\n",
        "\n",
        "if(len(im.shape)<3):\n",
        "      print ('gray')\n",
        "elif len(im.shape)==3:\n",
        "      print ('Color(RGB)')\n",
        "else:\n",
        "      print ('others')"
      ],
      "execution_count": null,
      "outputs": [
        {
          "output_type": "stream",
          "text": [
            "3\n",
            "Color(RGB)\n"
          ],
          "name": "stdout"
        }
      ]
    },
    {
      "cell_type": "markdown",
      "metadata": {
        "id": "I6qKSyIK5j9o"
      },
      "source": [
        "Data loader\n",
        "======="
      ]
    },
    {
      "cell_type": "code",
      "metadata": {
        "id": "LyC1iEYH5fzZ"
      },
      "source": [
        "import torch\n",
        "from torch.utils.data import Dataset\n",
        "from skimage import io, transform\n",
        "\n",
        "class Dataset(Dataset):\n",
        "    def __init__(self, df, root, transform=None):\n",
        "        self.data = df\n",
        "        self.root = root\n",
        "        self.transform = transform\n",
        "        \n",
        "    def __len__(self):\n",
        "        return len(self.data)\n",
        "    \n",
        "    def __getitem__(self, index):\n",
        "        item = self.data.iloc[index]\n",
        "        \n",
        "        path = self.root + \"/\" + str(item[0])\n",
        "        # image = Image.open(path)\n",
        "        image = Image.open(path).convert('RGB') # for pre-trained model\n",
        "        # image = io.imread(path) # for pre-trained model\n",
        "        label = item[1]\n",
        "        \n",
        "        if self.transform is not None:\n",
        "            image = self.transform(image)\n",
        "            \n",
        "        return image, label"
      ],
      "execution_count": null,
      "outputs": []
    },
    {
      "cell_type": "code",
      "metadata": {
        "id": "h7NpSqco6DtA",
        "colab": {
          "base_uri": "https://localhost:8080/",
          "height": 34
        },
        "outputId": "b6f33cc7-7e96-446b-e09a-9a8c12d91260"
      },
      "source": [
        "# prepare data\n",
        "mean = [0.5,]\n",
        "std = [0.5, ]\n",
        "\n",
        "train_transform = transforms.Compose([\n",
        "    transforms.Resize(180),\n",
        "    transforms.RandomRotation(30),\n",
        "    #transforms.RandomHorizontalFlip(),\n",
        "    transforms.ToTensor(),\n",
        "    #transforms.Normalize(mean, std)\n",
        "])\n",
        "\n",
        "test_transform = transforms.Compose([\n",
        "        transforms.Resize(180),\n",
        "        transforms.ToTensor(),\n",
        "        #transforms.Normalize(mean, std)\n",
        "])\n",
        "\n",
        "train_data  = Dataset(label_csv, path, train_transform)\n",
        "test_data = Dataset(label_csv, path, test_transform)\n",
        "\n",
        "print(\"Trainig Samples: \",len(train_data))"
      ],
      "execution_count": null,
      "outputs": [
        {
          "output_type": "stream",
          "text": [
            "Trainig Samples:  54908\n"
          ],
          "name": "stdout"
        }
      ]
    },
    {
      "cell_type": "markdown",
      "metadata": {
        "id": "a9JAjvhs6kVN"
      },
      "source": [
        "Prepare Loader\n",
        "========"
      ]
    },
    {
      "cell_type": "code",
      "metadata": {
        "id": "LVlww2a56epS",
        "colab": {
          "base_uri": "https://localhost:8080/",
          "height": 85
        },
        "outputId": "cc70857d-a34f-4105-ddce-c1152538c193"
      },
      "source": [
        "# Prepare loader\n",
        "# Batch Size: 128\n",
        "# Split percentage: 20%\n",
        "\n",
        "from torch.utils.data.sampler import SubsetRandomSampler\n",
        "\n",
        "#batch size\n",
        "batch_size=32\n",
        "\n",
        "# split data 20% for testing\n",
        "test_size = 0.2\n",
        "# obtain training indices that will be used for validation\n",
        "num_train = len(train_data)\n",
        "\n",
        "# mix data\n",
        "# index of num of train\n",
        "indices = list(range(num_train))\n",
        "# random the index\n",
        "np.random.shuffle(indices)\n",
        "split = int(np.floor(test_size * num_train))\n",
        "# divied into two part\n",
        "train_idx, test_idx = indices[split:], indices[:split]\n",
        "\n",
        "# define the sampler\n",
        "# defines the strategy to draw samples from the dataset.\n",
        "train_sampler = SubsetRandomSampler(train_idx)\n",
        "test_sampler = SubsetRandomSampler(test_idx)\n",
        "\n",
        "print(len(train_sampler))\n",
        "print(len(test_sampler))\n",
        "\n",
        "train_loader = torch.utils.data.DataLoader(\n",
        "    train_data, batch_size=batch_size,\n",
        "    sampler=train_sampler)\n",
        "\n",
        "test_loader = torch.utils.data.DataLoader(\n",
        "    test_data, batch_size=batch_size,\n",
        "    sampler=test_sampler)\n",
        "\n",
        "print(\"Train dataloader:{}\".format(len(train_loader))) # number of the batches\n",
        "print(\"Test dataloader:{}\".format(len(test_loader)))   # number of the batches"
      ],
      "execution_count": null,
      "outputs": [
        {
          "output_type": "stream",
          "text": [
            "43927\n",
            "10981\n",
            "Train dataloader:1373\n",
            "Test dataloader:344\n"
          ],
          "name": "stdout"
        }
      ]
    },
    {
      "cell_type": "code",
      "metadata": {
        "id": "zH1_pQC96vgP",
        "colab": {
          "base_uri": "https://localhost:8080/",
          "height": 34
        },
        "outputId": "1a8be9c6-f0da-4f6c-e79c-674937d21a77"
      },
      "source": [
        "classes = list()\n",
        "for i in range(10):\n",
        "    classes.append(str(i))\n",
        "classes"
      ],
      "execution_count": null,
      "outputs": [
        {
          "output_type": "execute_result",
          "data": {
            "text/plain": [
              "['0', '1', '2', '3', '4', '5', '6', '7', '8', '9']"
            ]
          },
          "metadata": {
            "tags": []
          },
          "execution_count": 24
        }
      ]
    },
    {
      "cell_type": "code",
      "metadata": {
        "id": "q8HaV7Wm6ynw",
        "colab": {
          "base_uri": "https://localhost:8080/",
          "height": 204
        },
        "outputId": "33e8b442-9ac2-4ac3-8b56-b95be8e2f4ba"
      },
      "source": [
        "!wget https://raw.githubusercontent.com/Iamsdt/DLProjects/master/utils/Helper.py\n",
        "import Helper"
      ],
      "execution_count": null,
      "outputs": [
        {
          "output_type": "stream",
          "text": [
            "--2020-07-05 06:52:48--  https://raw.githubusercontent.com/Iamsdt/DLProjects/master/utils/Helper.py\n",
            "Resolving raw.githubusercontent.com (raw.githubusercontent.com)... 151.101.0.133, 151.101.64.133, 151.101.128.133, ...\n",
            "Connecting to raw.githubusercontent.com (raw.githubusercontent.com)|151.101.0.133|:443... connected.\n",
            "HTTP request sent, awaiting response... 200 OK\n",
            "Length: 21413 (21K) [text/plain]\n",
            "Saving to: ‘Helper.py’\n",
            "\n",
            "\rHelper.py             0%[                    ]       0  --.-KB/s               \rHelper.py           100%[===================>]  20.91K  --.-KB/s    in 0.007s  \n",
            "\n",
            "2020-07-05 06:52:48 (2.80 MB/s) - ‘Helper.py’ saved [21413/21413]\n",
            "\n"
          ],
          "name": "stdout"
        }
      ]
    },
    {
      "cell_type": "code",
      "metadata": {
        "id": "fzE_nuN8619N",
        "colab": {
          "base_uri": "https://localhost:8080/",
          "height": 169
        },
        "outputId": "63491258-2c0e-4dd0-ccd2-538000fd9906"
      },
      "source": [
        "# visualize the data\n",
        "\n",
        "# import Helper\n",
        "# from torch.utils.tensorboard import SummaryWriter\n",
        "\n",
        "data_iter = iter(train_loader)\n",
        "images, labels = data_iter.next()\n",
        "# for batch in train_loader:\n",
        "#     images, labels = batch\n",
        "#     break\n",
        "\n",
        "fig = plt.figure(figsize=(25, 10))\n",
        "for idx in range(5):\n",
        "        ax = fig.add_subplot(1, 10, idx + 1, xticks=[], yticks=[])\n",
        "        ax.imshow(np.transpose(images[idx].numpy(), (1, 2, 0)))\n",
        "        ax.set_title(classes[labels[idx]])\n"
      ],
      "execution_count": null,
      "outputs": [
        {
          "output_type": "display_data",
          "data": {
            "image/png": "[encoded data removed]",
            "text/plain": [
              "<Figure size 1800x720 with 5 Axes>"
            ]
          },
          "metadata": {
            "tags": []
          }
        }
      ]
    },
    {
      "cell_type": "code",
      "metadata": {
        "id": "qs2kgZzv5FbS"
      },
      "source": [
        "device = torch.device(\"cuda:0\" if torch.cuda.is_available() else \"cpu\")"
      ],
      "execution_count": null,
      "outputs": []
    },
    {
      "cell_type": "code",
      "metadata": {
        "id": "zje0EE5W5NiH"
      },
      "source": [
        "model = models.resnet50(pretrained=True)\n",
        "num_ftrs = model.fc.in_features\n",
        "# Here the size of each output sample is set to 2.\n",
        "# Alternatively, it can be generalized to nn.Linear(num_ftrs, len(class_names)).\n",
        "model.fc = nn.Linear(num_ftrs, 10)\n",
        "\n",
        "model = model.to(device)"
      ],
      "execution_count": null,
      "outputs": []
    },
    {
      "cell_type": "code",
      "metadata": {
        "id": "FomG9V9K5UH8"
      },
      "source": [
        "# INSTANTIATE OPTIMIZER CLASS\n",
        "criterion = nn.CrossEntropyLoss()\n",
        "optimizer = torch.optim.SGD(model.parameters(), lr=0.001)"
      ],
      "execution_count": null,
      "outputs": []
    },
    {
      "cell_type": "code",
      "metadata": {
        "id": "A3S9ZisM5Ysi",
        "colab": {
          "base_uri": "https://localhost:8080/",
          "height": 238
        },
        "outputId": "69eca895-9879-4c3a-cb32-850e5182d4ca"
      },
      "source": [
        "# Training Loop\n",
        "import torch.nn.functional as F\n",
        "import time\n",
        "iteration_loss = []\n",
        "since = time.time()\n",
        "\n",
        "for epoch in range(3):\n",
        "  # total_loss = 0\n",
        "  # total_correct = 0\n",
        "  e_since = time.time()\n",
        "\n",
        "  running_loss = 0.0\n",
        "  running_corrects = 0\n",
        "  total = 0\n",
        "\n",
        "  for batch in train_loader:\n",
        "    model.train()\n",
        "    images, labels = batch\n",
        "\n",
        "    # images = images.view(-1, 224*224).to(device)\n",
        "    images = images.to(device)\n",
        "    labels = labels.to(device)\n",
        "\n",
        "    optimizer.zero_grad()\n",
        "\n",
        "    # Forward pass to get output/logits\n",
        "    # logits, probas = model(images)\n",
        "    outputs = model(images)\n",
        "    _, preds = torch.max(outputs, 1)\n",
        "    loss = criterion(outputs, labels) \n",
        "\n",
        "    # Calculate Loss: PyTorch implementation of CrossEntropyLoss works with logits, not probabilities\n",
        "    # loss = F.cross_entropy(logits, labels)\n",
        "\n",
        "    # Getting gradients w.r.t. parameters\n",
        "    loss.backward()\n",
        "\n",
        "    # Updating parameters\n",
        "    optimizer.step()\n",
        "    total += labels.size(0)\n",
        "\n",
        "    running_loss += loss.item() * images.size(0)\n",
        "    running_corrects += torch.sum(preds == labels.data)\n",
        "  \n",
        "  epoch_loss = running_loss / len(train_loader)\n",
        "  # epoch_acc = running_corrects / len(train_loader)\n",
        "  epoch_acc = (running_corrects.double() / total) * 100\n",
        "\n",
        "  print('epoch: {}. Total: {}. Correct: {}. Train Loss: {:.4f}. Train Acc: {:.4f}.'.format(epoch, total, running_corrects, epoch_loss, epoch_acc))\n",
        "  valid_correct = 0\n",
        "  total = 0\n",
        "  valid_loss = 0\n",
        "  for images, labels in test_loader:\n",
        "      model.eval()\n",
        "  \n",
        "      # images = images.view(-1, 224*224).to(device)\n",
        "      images = images.to(device)\n",
        "      labels = labels.to(device)\n",
        "\n",
        "      outputs = model(images)\n",
        "      _, predicted = torch.max(outputs, 1)\n",
        "      loss_p = criterion(outputs, labels)\n",
        "\n",
        "      # Total number of labels\n",
        "      total += labels.size(0)\n",
        "\n",
        "      valid_loss += loss_p.item() * images.size(0)\n",
        "      valid_correct += torch.sum(predicted == labels.data)\n",
        "\n",
        "  valid_epoch_loss = valid_loss / len(test_loader)\n",
        "  # epoch_acc = running_corrects / len(train_loader)\n",
        "  valid_epoch_acc = (valid_correct.double() / total) * 100\n",
        "\n",
        "  print('epoch: {}. Total: {}. Correct: {}. Valid Loss: {:.4f}. Valid Acc: {:.4f}.'.format(epoch, total, valid_correct, valid_epoch_loss, valid_epoch_acc))\n",
        "  \n",
        "\n",
        "  time_elapsed = time.time() - e_since\n",
        "  # accuracy = 100 * correct.item() / total\n",
        "\n",
        "  # print(\"epoct:\", epoch, \"total_correct:\", total_correct, \"loss:\", total_loss)\n",
        "  # iteration_loss.append(loss.item())\n",
        "  # print('epoch: {}. data: {}. Loss: {}. Accuracy: {}'.format( epoch, total, loss.item(), accuracy))\n",
        "  print('\\nEpoch:{} completed in {:.0f}m {:.0f}s'.format(epoch, time_elapsed // 60, time_elapsed % 60))\n",
        "\n",
        "# compare total time\n",
        "time_elapsed = time.time() - since\n",
        "print('Training completed in {:.0f}m {:.0f}s'.format(time_elapsed // 60, time_elapsed % 60))"
      ],
      "execution_count": null,
      "outputs": [
        {
          "output_type": "stream",
          "text": [
            "epoch: 0. Total: 43927. Correct: 36560. Train Loss: 23.3524. Train Acc: 83.2290.\n",
            "epoch: 0. Total: 10981. Correct: 10813. Valid Loss: 2.6422. Valid Acc: 98.4701.\n",
            "\n",
            "Epoch:0 completed in 4m 53s\n",
            "epoch: 1. Total: 43927. Correct: 42772. Train Loss: 3.5205. Train Acc: 97.3706.\n",
            "epoch: 1. Total: 10981. Correct: 10883. Valid Loss: 1.2509. Valid Acc: 99.1075.\n",
            "\n",
            "Epoch:1 completed in 4m 51s\n",
            "epoch: 2. Total: 43927. Correct: 43148. Train Loss: 2.2286. Train Acc: 98.2266.\n",
            "epoch: 2. Total: 10981. Correct: 10908. Valid Loss: 0.8894. Valid Acc: 99.3352.\n",
            "\n",
            "Epoch:2 completed in 4m 51s\n",
            "Training completed in 14m 36s\n"
          ],
          "name": "stdout"
        }
      ]
    }
  ]
}